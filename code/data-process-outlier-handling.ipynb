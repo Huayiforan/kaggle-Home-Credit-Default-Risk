{
 "cells": [
  {
   "attachments": {},
   "cell_type": "markdown",
   "metadata": {},
   "source": [
    "\n",
    "# **数据挖掘——Home Credit Default Risk**\n",
    "\n",
    "Authors：李林（3120220938）、杨洋（3220211141）、敬甲男（3220221052）、李翰杰（3120220936）\n",
    "\n",
    "github地址：https://github.com/leealim/kaggle-Home-Credit-Default-Risk\n",
    "\n",
    "---\n",
    "\n",
    "## 数据预处理——异常值处理\n",
    "\n",
    "共八张表，逐个进行处理：\n",
    "- application_{train|test}.csv:客户申请表\n",
    "- bureau.csv/bureau_balance.csv:客户历史借款记录\n",
    "- POS_CASH_balance.csv:客户POS和现金贷款历史\n",
    "- credit_card_balance.csv:客户信用卡的snapshot历史\n",
    "- previous_application.csv:客户历史申请记录\n",
    "- installments_payments.csv:客户信用卡还款记录\n",
    "\n",
    "---\n"
   ]
  },
  {
   "cell_type": "code",
   "execution_count": 90,
   "metadata": {},
   "outputs": [],
   "source": [
    "# 引入本部分所需要的包，并定义需要的值和函数\n",
    "\n",
    "import pandas as pd\n",
    "import numpy as np\n",
    "import os\n",
    "import math \n",
    "\n",
    "source_dir=\"..\\\\data\\\\miss_value_handling\"\n",
    "result_dir=\"..\\\\data\\\\outlier_handling\"\n",
    "\n",
    "app_tr_path = source_dir+\"\\\\application_train.csv\"\n",
    "app_te_path = source_dir+\"\\\\application_test.csv\"\n",
    "bur_path = source_dir+\"\\\\bureau.csv\"\n",
    "bur_bal_path = source_dir+\"\\\\bureau_balance.csv\"\n",
    "pos_path = source_dir+\"\\\\POS_CASH_balance.csv\"\n",
    "cre_path = source_dir+\"\\\\credit_card_balance.csv\"\n",
    "pre_path = source_dir+\"\\\\previous_application.csv\"\n",
    "ins_path = source_dir+\"\\\\installments_payments.csv\"\n",
    "hom_path = \"..\\\\data\\\\home-credit-default-risk\\\\HomeCredit_columns_description.csv\"  # 列描述表\n",
    "hom = pd.read_csv(hom_path)\n",
    "\n",
    "if not os.path.exists(result_dir):\n",
    "    os.makedirs(result_dir)\n",
    "\n",
    "def box_outlier(data,q1_,q3_):\n",
    "    df = data.copy(deep=True)\n",
    "    for col in df.select_dtypes(exclude='object').columns:             # 对数值属性的每一列分别用盒图进行判断\n",
    "        Q1 = df[col].quantile(q=q1_)       # 下四分位\n",
    "        Q3 = df[col].quantile(q=q3_)       # 上四分位\n",
    "        low_whisker = Q1 - 1.5 * (Q3 - Q1)  # 下边缘\n",
    "        up_whisker = Q3 + 1.5 * (Q3 - Q1)   # 上边缘\n",
    "        \n",
    "        # 寻找异常点,获得异常点索引值，将异常值设为空值\n",
    "        rule = (df[col] > up_whisker) | (df[col] < low_whisker)  \n",
    "        out = df[col].index[rule]\n",
    "        df.loc[out,col]=np.nan\n",
    "    return df"
   ]
  },
  {
   "attachments": {},
   "cell_type": "markdown",
   "metadata": {},
   "source": [
    "\n",
    "### 1. **application_{train|test}.csv**"
   ]
  },
  {
   "attachments": {},
   "cell_type": "markdown",
   "metadata": {},
   "source": [
    "在过程中，发现DAYS_EMPLOYED异常数据,用非异常值部分的均值填补  \n",
    "此外用箱线图处理异常值，同时为了不删除大量数据（正常删除会删除3分之2的数据），限制Q1以及Q3（可以自行设定值）"
   ]
  },
  {
   "cell_type": "code",
   "execution_count": 91,
   "metadata": {},
   "outputs": [
    {
     "data": {
      "text/html": [
       "<div>\n",
       "<style scoped>\n",
       "    .dataframe tbody tr th:only-of-type {\n",
       "        vertical-align: middle;\n",
       "    }\n",
       "\n",
       "    .dataframe tbody tr th {\n",
       "        vertical-align: top;\n",
       "    }\n",
       "\n",
       "    .dataframe thead th {\n",
       "        text-align: right;\n",
       "    }\n",
       "</style>\n",
       "<table border=\"1\" class=\"dataframe\">\n",
       "  <thead>\n",
       "    <tr style=\"text-align: right;\">\n",
       "      <th></th>\n",
       "      <th>count</th>\n",
       "      <th>mean</th>\n",
       "      <th>std</th>\n",
       "      <th>min</th>\n",
       "      <th>25%</th>\n",
       "      <th>50%</th>\n",
       "      <th>75%</th>\n",
       "      <th>max</th>\n",
       "    </tr>\n",
       "  </thead>\n",
       "  <tbody>\n",
       "    <tr>\n",
       "      <th>SK_ID_CURR</th>\n",
       "      <td>304531.0</td>\n",
       "      <td>278171.558800</td>\n",
       "      <td>102782.532925</td>\n",
       "      <td>100002.0</td>\n",
       "      <td>189138.5</td>\n",
       "      <td>278193.0</td>\n",
       "      <td>367136.0</td>\n",
       "      <td>456255.0</td>\n",
       "    </tr>\n",
       "    <tr>\n",
       "      <th>TARGET</th>\n",
       "      <td>304531.0</td>\n",
       "      <td>0.081000</td>\n",
       "      <td>0.272836</td>\n",
       "      <td>0.0</td>\n",
       "      <td>0.0</td>\n",
       "      <td>0.0</td>\n",
       "      <td>0.0</td>\n",
       "      <td>1.0</td>\n",
       "    </tr>\n",
       "    <tr>\n",
       "      <th>CNT_CHILDREN</th>\n",
       "      <td>304531.0</td>\n",
       "      <td>0.417140</td>\n",
       "      <td>0.722308</td>\n",
       "      <td>0.0</td>\n",
       "      <td>0.0</td>\n",
       "      <td>0.0</td>\n",
       "      <td>1.0</td>\n",
       "      <td>19.0</td>\n",
       "    </tr>\n",
       "    <tr>\n",
       "      <th>AMT_INCOME_TOTAL</th>\n",
       "      <td>304531.0</td>\n",
       "      <td>168663.446314</td>\n",
       "      <td>237890.994045</td>\n",
       "      <td>25650.0</td>\n",
       "      <td>112500.0</td>\n",
       "      <td>147600.0</td>\n",
       "      <td>202500.0</td>\n",
       "      <td>117000000.0</td>\n",
       "    </tr>\n",
       "    <tr>\n",
       "      <th>AMT_CREDIT</th>\n",
       "      <td>304531.0</td>\n",
       "      <td>599559.238330</td>\n",
       "      <td>402145.313895</td>\n",
       "      <td>45000.0</td>\n",
       "      <td>270000.0</td>\n",
       "      <td>517266.0</td>\n",
       "      <td>808650.0</td>\n",
       "      <td>4050000.0</td>\n",
       "    </tr>\n",
       "    <tr>\n",
       "      <th>...</th>\n",
       "      <td>...</td>\n",
       "      <td>...</td>\n",
       "      <td>...</td>\n",
       "      <td>...</td>\n",
       "      <td>...</td>\n",
       "      <td>...</td>\n",
       "      <td>...</td>\n",
       "      <td>...</td>\n",
       "    </tr>\n",
       "    <tr>\n",
       "      <th>AMT_REQ_CREDIT_BUREAU_WEEK</th>\n",
       "      <td>304531.0</td>\n",
       "      <td>0.029829</td>\n",
       "      <td>0.190669</td>\n",
       "      <td>0.0</td>\n",
       "      <td>0.0</td>\n",
       "      <td>0.0</td>\n",
       "      <td>0.0</td>\n",
       "      <td>8.0</td>\n",
       "    </tr>\n",
       "    <tr>\n",
       "      <th>AMT_REQ_CREDIT_BUREAU_MON</th>\n",
       "      <td>304531.0</td>\n",
       "      <td>0.231635</td>\n",
       "      <td>0.856216</td>\n",
       "      <td>0.0</td>\n",
       "      <td>0.0</td>\n",
       "      <td>0.0</td>\n",
       "      <td>0.0</td>\n",
       "      <td>27.0</td>\n",
       "    </tr>\n",
       "    <tr>\n",
       "      <th>AMT_REQ_CREDIT_BUREAU_QRT</th>\n",
       "      <td>304531.0</td>\n",
       "      <td>0.230203</td>\n",
       "      <td>0.745648</td>\n",
       "      <td>0.0</td>\n",
       "      <td>0.0</td>\n",
       "      <td>0.0</td>\n",
       "      <td>0.0</td>\n",
       "      <td>261.0</td>\n",
       "    </tr>\n",
       "    <tr>\n",
       "      <th>AMT_REQ_CREDIT_BUREAU_YEAR</th>\n",
       "      <td>304531.0</td>\n",
       "      <td>1.648630</td>\n",
       "      <td>1.856842</td>\n",
       "      <td>0.0</td>\n",
       "      <td>0.0</td>\n",
       "      <td>1.0</td>\n",
       "      <td>3.0</td>\n",
       "      <td>25.0</td>\n",
       "    </tr>\n",
       "    <tr>\n",
       "      <th>MY_HOUSE_OWN</th>\n",
       "      <td>304531.0</td>\n",
       "      <td>25.046268</td>\n",
       "      <td>18.909576</td>\n",
       "      <td>0.0</td>\n",
       "      <td>0.0</td>\n",
       "      <td>33.0</td>\n",
       "      <td>43.0</td>\n",
       "      <td>43.0</td>\n",
       "    </tr>\n",
       "  </tbody>\n",
       "</table>\n",
       "<p>64 rows × 8 columns</p>\n",
       "</div>"
      ],
      "text/plain": [
       "                               count           mean            std       min  \\\n",
       "SK_ID_CURR                  304531.0  278171.558800  102782.532925  100002.0   \n",
       "TARGET                      304531.0       0.081000       0.272836       0.0   \n",
       "CNT_CHILDREN                304531.0       0.417140       0.722308       0.0   \n",
       "AMT_INCOME_TOTAL            304531.0  168663.446314  237890.994045   25650.0   \n",
       "AMT_CREDIT                  304531.0  599559.238330  402145.313895   45000.0   \n",
       "...                              ...            ...            ...       ...   \n",
       "AMT_REQ_CREDIT_BUREAU_WEEK  304531.0       0.029829       0.190669       0.0   \n",
       "AMT_REQ_CREDIT_BUREAU_MON   304531.0       0.231635       0.856216       0.0   \n",
       "AMT_REQ_CREDIT_BUREAU_QRT   304531.0       0.230203       0.745648       0.0   \n",
       "AMT_REQ_CREDIT_BUREAU_YEAR  304531.0       1.648630       1.856842       0.0   \n",
       "MY_HOUSE_OWN                304531.0      25.046268      18.909576       0.0   \n",
       "\n",
       "                                 25%       50%       75%          max  \n",
       "SK_ID_CURR                  189138.5  278193.0  367136.0     456255.0  \n",
       "TARGET                           0.0       0.0       0.0          1.0  \n",
       "CNT_CHILDREN                     0.0       0.0       1.0         19.0  \n",
       "AMT_INCOME_TOTAL            112500.0  147600.0  202500.0  117000000.0  \n",
       "AMT_CREDIT                  270000.0  517266.0  808650.0    4050000.0  \n",
       "...                              ...       ...       ...          ...  \n",
       "AMT_REQ_CREDIT_BUREAU_WEEK       0.0       0.0       0.0          8.0  \n",
       "AMT_REQ_CREDIT_BUREAU_MON        0.0       0.0       0.0         27.0  \n",
       "AMT_REQ_CREDIT_BUREAU_QRT        0.0       0.0       0.0        261.0  \n",
       "AMT_REQ_CREDIT_BUREAU_YEAR       0.0       1.0       3.0         25.0  \n",
       "MY_HOUSE_OWN                     0.0      33.0      43.0         43.0  \n",
       "\n",
       "[64 rows x 8 columns]"
      ]
     },
     "execution_count": 91,
     "metadata": {},
     "output_type": "execute_result"
    }
   ],
   "source": [
    "app_tr = pd.read_csv(app_tr_path)\n",
    "app_tr.describe().T"
   ]
  },
  {
   "cell_type": "code",
   "execution_count": 92,
   "metadata": {},
   "outputs": [
    {
     "data": {
      "text/plain": [
       "8         365243\n",
       "11        365243\n",
       "23        365243\n",
       "38        365243\n",
       "43        365243\n",
       "           ...  \n",
       "304489    365243\n",
       "304503    365243\n",
       "304507    365243\n",
       "304525    365243\n",
       "304527    365243\n",
       "Name: DAYS_EMPLOYED, Length: 54852, dtype: int64"
      ]
     },
     "execution_count": 92,
     "metadata": {},
     "output_type": "execute_result"
    }
   ],
   "source": [
    "#DAYS_EMPLOYED异常数据证明\n",
    "\n",
    "app_tr[\"DAYS_EMPLOYED\"].loc[app_tr[\"DAYS_EMPLOYED\"]>0]"
   ]
  },
  {
   "cell_type": "code",
   "execution_count": 93,
   "metadata": {},
   "outputs": [
    {
     "data": {
      "text/plain": [
       "6         True\n",
       "26        True\n",
       "50        True\n",
       "70        True\n",
       "71        True\n",
       "          ... \n",
       "304283    True\n",
       "304324    True\n",
       "304342    True\n",
       "304379    True\n",
       "304528    True\n",
       "Length: 13910, dtype: bool"
      ]
     },
     "execution_count": 93,
     "metadata": {},
     "output_type": "execute_result"
    }
   ],
   "source": [
    "#箱线图\n",
    "\n",
    "temp=box_outlier(app_tr.iloc[:,2:],0.01,0.99).isnull().any(axis=1)\n",
    "temp=temp.loc[temp==True]\n",
    "temp"
   ]
  },
  {
   "cell_type": "code",
   "execution_count": 94,
   "metadata": {},
   "outputs": [
    {
     "data": {
      "text/plain": [
       "614       True\n",
       "1397      True\n",
       "1399      True\n",
       "1497      True\n",
       "1641      True\n",
       "          ... \n",
       "299346    True\n",
       "299600    True\n",
       "301945    True\n",
       "303769    True\n",
       "304152    True\n",
       "Length: 484, dtype: bool"
      ]
     },
     "execution_count": 94,
     "metadata": {},
     "output_type": "execute_result"
    }
   ],
   "source": [
    "#删除结果\n",
    "\n",
    "app_tr.drop(index=temp.index,inplace=True)\n",
    "temp=box_outlier(app_tr.iloc[:,2:],0.01,0.99).isnull().any(axis=1)\n",
    "temp=temp.loc[temp==True]\n",
    "temp"
   ]
  },
  {
   "cell_type": "code",
   "execution_count": 95,
   "metadata": {},
   "outputs": [],
   "source": [
    "# 输出结果\n",
    "\n",
    "app_tr.to_csv(result_dir+\"\\\\application_train.csv\",index=False)\n",
    "app_te = pd.read_csv(app_te_path)\n",
    "app_te.to_csv(result_dir+\"\\\\application_test.csv\",index=False)"
   ]
  },
  {
   "attachments": {},
   "cell_type": "markdown",
   "metadata": {},
   "source": [
    "\n",
    "### 2. **previous_application.csv**"
   ]
  },
  {
   "cell_type": "code",
   "execution_count": 96,
   "metadata": {},
   "outputs": [],
   "source": [
    "pre = pd.read_csv(pre_path)"
   ]
  },
  {
   "cell_type": "code",
   "execution_count": 97,
   "metadata": {},
   "outputs": [],
   "source": [
    "# 结果保存\n",
    "\n",
    "pre.to_csv(result_dir+\"\\\\previous_application.csv\",index=False)"
   ]
  }
 ],
 "metadata": {
  "kernelspec": {
   "display_name": "hcdrvenv",
   "language": "python",
   "name": "python3"
  },
  "language_info": {
   "codemirror_mode": {
    "name": "ipython",
    "version": 3
   },
   "file_extension": ".py",
   "mimetype": "text/x-python",
   "name": "python",
   "nbconvert_exporter": "python",
   "pygments_lexer": "ipython3",
   "version": "3.10.6"
  },
  "orig_nbformat": 4
 },
 "nbformat": 4,
 "nbformat_minor": 2
}
