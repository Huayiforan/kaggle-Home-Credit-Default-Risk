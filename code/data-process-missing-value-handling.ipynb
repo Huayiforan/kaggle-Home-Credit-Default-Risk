{
 "cells": [
  {
   "attachments": {},
   "cell_type": "markdown",
   "metadata": {},
   "source": [
    "\n",
    "# **数据挖掘——Home Credit Default Risk**\n",
    "\n",
    "Authors：李林（3120220938）、杨洋（3220211141）、敬甲男（3220221052）、李翰杰（3120220936）\n",
    "\n",
    "github地址：https://github.com/leealim/kaggle-Home-Credit-Default-Risk\n",
    "\n",
    "---\n",
    "\n",
    "## 数据预处理——缺失值处理\n",
    "\n",
    "共八张表，逐个进行处理：\n",
    "- application_{train|test}.csv:客户申请表\n",
    "- bureau.csv/bureau_balance.csv:客户历史借款记录\n",
    "- POS_CASH_balance.csv:客户POS和现金贷款历史\n",
    "- credit_card_balance.csv:客户信用卡的snapshot历史\n",
    "- previous_application.csv:客户历史申请记录\n",
    "- installments_payments.csv:客户信用卡还款记录\n",
    "\n",
    "---\n"
   ]
  },
  {
   "cell_type": "code",
   "execution_count": 3,
   "metadata": {},
   "outputs": [],
   "source": [
    "# 引入本部分所需要的包，并定义需要的值和函数\n",
    "\n",
    "import pandas as pd\n",
    "import os\n",
    "\n",
    "source_dir=\"..\\\\data\\\\home-credit-default-risk\"\n",
    "if not os.path.exists(source_dir):\n",
    "    raise Exception('请补充数据集！')\n",
    "result_dir=\"..\\\\data\\\\miss_value_handling\"\n",
    "\n",
    "app_tr_path = source_dir+\"\\\\application_train.csv\"\n",
    "app_te_path = source_dir+\"\\\\application_test.csv\"\n",
    "bur_path = source_dir+\"\\\\bureau.csv\"\n",
    "bur_bal_path = source_dir+\"\\\\bureau_balance.csv\"\n",
    "pos_path = source_dir+\"\\\\POS_CASH_balance.csv\"\n",
    "cre_path = source_dir+\"\\\\credit_card_balance.csv\"\n",
    "pre_path = source_dir+\"\\\\previous_application.csv\"\n",
    "ins_path = source_dir+\"\\\\installments_payments.csv\"\n",
    "hom_path = \"..\\\\data\\\\home-credit-default-risk\\\\HomeCredit_columns_description.csv\"  # 列描述表\n",
    "hom = pd.read_csv(hom_path)\n",
    "\n",
    "\n",
    "\n",
    "if not os.path.exists(result_dir):\n",
    "    os.makedirs(result_dir)\n",
    "\n",
    "def missing_values_table(df, table_name):\n",
    "    mis_val = df.isnull().sum()\n",
    "    mis_val_percent = 100 * df.isnull().sum() / len(df)\n",
    "    mis_val_table = pd.concat([mis_val, mis_val_percent], axis=1)\n",
    "    mis_val_table = mis_val_table.rename(\n",
    "        columns={0: 'Missing Values',\n",
    "                 1: '% of Total Values'})\n",
    "    mis_val_table = mis_val_table.sort_values(\n",
    "        '% of Total Values', ascending=False).round(1)\n",
    "    miss_num = (mis_val_table[\"Missing Values\"] != 0).sum()\n",
    "    print(\"Total \" + str(miss_num) + \" columns missing values\")\n",
    "    mis_val_table = mis_val_table.drop(index=mis_val_table[miss_num:].index)\n",
    "    mis_val_table = mis_val_table.merge(\n",
    "        hom, how=\"left\", left_index=True, right_on='Row')\n",
    "    mis_val_table = mis_val_table.drop(columns=['Unnamed: 0'])\n",
    "    mis_val_table = mis_val_table.drop(\n",
    "        index=mis_val_table.loc[mis_val_table[\"Table\"] != table_name].index)\n",
    "    mis_val_table = mis_val_table.reindex(\n",
    "        columns=[\"Row\", \"Description\", \"Special\", \"Missing Values\", \"% of Total Values\"])\n",
    "    mis_val_table = mis_val_table.reset_index(drop=True)\n",
    "    mis_val_table = mis_val_table.merge(\n",
    "        df.describe().T, how=\"left\", left_on=\"Row\", right_index=True)\n",
    "    return mis_val_table\n"
   ]
  },
  {
   "attachments": {},
   "cell_type": "markdown",
   "metadata": {},
   "source": [
    "\n",
    "### 1. **application_{train|test}.csv**"
   ]
  },
  {
   "cell_type": "code",
   "execution_count": null,
   "metadata": {},
   "outputs": [],
   "source": [
    "# 查看训练数据的基本数据特征\n",
    "\n",
    "app_tr = pd.read_csv(app_tr_path)\n",
    "app_tr.describe()\n"
   ]
  },
  {
   "cell_type": "code",
   "execution_count": null,
   "metadata": {},
   "outputs": [],
   "source": [
    "# 缺失值分析\n",
    "\n",
    "t = missing_values_table(app_tr, \"application_{train|test}.csv\")\n",
    "pd.set_option(\"display.max_rows\", 20)\n",
    "pd.set_option('max_colwidth',40)\n",
    "t\n"
   ]
  },
  {
   "cell_type": "code",
   "execution_count": null,
   "metadata": {},
   "outputs": [],
   "source": [
    "#获取较小的缺失值列信息\n",
    "\n",
    "t_small=t.loc[t[\"% of Total Values\"]<3]\n",
    "t_small\n"
   ]
  },
  {
   "cell_type": "code",
   "execution_count": null,
   "metadata": {},
   "outputs": [],
   "source": [
    "#获取较大的缺失值列信息\n",
    "\n",
    "t_large=t.loc[t[\"% of Total Values\"]>3]\n",
    "t_large"
   ]
  },
  {
   "attachments": {},
   "cell_type": "markdown",
   "metadata": {},
   "source": [
    "可以发现，残缺值数量差距很大，对于小于百分之一的残缺值，我们采取删去对应行的措施。\n"
   ]
  },
  {
   "cell_type": "code",
   "execution_count": null,
   "metadata": {},
   "outputs": [],
   "source": [
    "#删去部分行\n",
    "\n",
    "app_tr.dropna(subset=t_small[\"Row\"],\n",
    "          axis=0, # axis=0表示删除行；\n",
    "          how='any', # how=any表示若列name、age中，任意一个出现空值，就删掉该行\n",
    "          inplace=True # inplace=True表示在原df上进行修改；\n",
    "          )\n",
    "app_tr = app_tr.reset_index(drop=True)\n",
    "app_tr"
   ]
  },
  {
   "attachments": {},
   "cell_type": "markdown",
   "metadata": {},
   "source": [
    "对于残缺值比较大的行，我们逐一进行研究处理。首先，对每个特征融入统计数据。"
   ]
  },
  {
   "cell_type": "code",
   "execution_count": null,
   "metadata": {},
   "outputs": [],
   "source": [
    "t = missing_values_table(app_tr, \"application_{train|test}.csv\")\n",
    "pd.set_option(\"display.max_rows\", 400)\n",
    "pd.set_option('max_colwidth',400)\n",
    "t\n",
    "\n",
    "\n"
   ]
  },
  {
   "attachments": {},
   "cell_type": "markdown",
   "metadata": {},
   "source": [
    "可以发现还存在一些存在大量残缺值的分类数据。对于这些数据，在转化为数值数据时，多转化一个类别。\n",
    "另外，这里面有着大量缺失的房产数据，可以简化这些特征的拥有总和为一个特征，表明拥有房产的可信度。\n",
    "\n"
   ]
  },
  {
   "cell_type": "code",
   "execution_count": null,
   "metadata": {},
   "outputs": [],
   "source": [
    "#填补分类数据缺失值\n",
    "\n",
    "temp=t.drop(columns=[\"Special\"]).isnull().T.any()\n",
    "temp.loc[temp==True].index\n",
    "rows=t.loc[temp.loc[temp==True].index].Row\n",
    "\n",
    "for col in rows: \n",
    "    app_tr[str(col)] = app_tr[str(col)].fillna(value=\"MyNull\")\n",
    "    \n",
    "app_tr[str(rows.iloc[0])]"
   ]
  },
  {
   "cell_type": "code",
   "execution_count": null,
   "metadata": {},
   "outputs": [],
   "source": [
    "t=missing_values_table(app_tr,\"application_{train|test}.csv\")\n",
    "pd.set_option(\"display.max_rows\", 20)\n",
    "pd.set_option('max_colwidth',40)\n",
    "t"
   ]
  },
  {
   "cell_type": "code",
   "execution_count": null,
   "metadata": {},
   "outputs": [],
   "source": [
    "#重新理解房产数据,暂时存储删除列和test表合并删除，并将删除列的空值填补任意值。\n",
    "print(app_tr.shape)\n",
    "t_house=t.loc[t[\"Description\"]==\"Normalized information about building where the client lives, What is average (_AVG suffix), modus (_MODE suffix), median (_MEDI suffix) apartment size, common area, living area, age of building, number of elevators, number of entrances, state of the building, number of floor\"]\n",
    "temp=app_tr.loc[:,t_house[\"Row\"].tolist()].isnull().sum(axis=1)\n",
    "app_tr[\"MY_HOUSE_OWN\"]=temp\n",
    "app_tr_drop_list=t_house[\"Row\"].tolist()\n",
    "for col in app_tr_drop_list: \n",
    "    app_tr[col] = app_tr[col].fillna(value=0)\n",
    "app_tr"
   ]
  },
  {
   "cell_type": "code",
   "execution_count": null,
   "metadata": {},
   "outputs": [],
   "source": [
    "t=missing_values_table(app_tr,\"application_{train|test}.csv\")\n",
    "t"
   ]
  },
  {
   "attachments": {},
   "cell_type": "markdown",
   "metadata": {},
   "source": [
    "目前，还有9列缺失值，可以发现OWN_CAR_AGE是车辆拥有年限数据，缺失值可以置零   \n",
    "可以看到EXT_SOURCE_1和EXT_SOURCE_3比较平滑，直接用平均值代替  \n",
    "AMT_REQ_CREDIT_BUREAU的一列数据用0填补，缺失值可能说明这些客户并未有对应的enquiries"
   ]
  },
  {
   "cell_type": "code",
   "execution_count": null,
   "metadata": {},
   "outputs": [],
   "source": [
    "#处理OWN_CAR_AGE\n",
    "\n",
    "app_tr[\"OWN_CAR_AGE\"] = app_tr[\"OWN_CAR_AGE\"].fillna(value=0)\n",
    "app_tr[\"OWN_CAR_AGE\"]\n"
   ]
  },
  {
   "cell_type": "code",
   "execution_count": null,
   "metadata": {},
   "outputs": [],
   "source": [
    "#处理EXT_SOURCE_1和EXT_SOURCE_3\n",
    "\n",
    "tr_1_mean_val = app_tr[\"EXT_SOURCE_1\"].mean()\n",
    "app_tr[\"EXT_SOURCE_1\"].fillna(tr_1_mean_val, inplace=True)\n",
    "tr_2_mean_val = app_tr[\"EXT_SOURCE_3\"].mean()\n",
    "app_tr[\"EXT_SOURCE_3\"].fillna(tr_2_mean_val, inplace=True)\n"
   ]
  },
  {
   "cell_type": "code",
   "execution_count": null,
   "metadata": {},
   "outputs": [],
   "source": [
    "t=missing_values_table(app_tr,\"application_{train|test}.csv\")\n",
    "t"
   ]
  },
  {
   "cell_type": "code",
   "execution_count": null,
   "metadata": {},
   "outputs": [],
   "source": [
    "# 处理 AMT_REQ_CREDIT_BUREAU\n",
    "\n",
    "for s in t[\"Row\"].tolist():\n",
    "    app_tr[s].fillna(0, inplace=True)"
   ]
  },
  {
   "cell_type": "code",
   "execution_count": null,
   "metadata": {},
   "outputs": [],
   "source": [
    "t=missing_values_table(app_tr,\"application_{train|test}.csv\")\n",
    "t"
   ]
  },
  {
   "attachments": {},
   "cell_type": "markdown",
   "metadata": {},
   "source": [
    "至此，主表缺失值处理完毕。\n",
    "此外，也对app_te表进行处理\n"
   ]
  },
  {
   "cell_type": "code",
   "execution_count": null,
   "metadata": {},
   "outputs": [],
   "source": [
    "app_te = pd.read_csv(app_te_path)\n",
    "\n",
    "t = missing_values_table(app_te, \"application_{train|test}.csv\")\n",
    "t_small = t.loc[t[\"% of Total Values\"] < 3]\n",
    "t_large = t.loc[t[\"% of Total Values\"] > 3]\n",
    "for c in t_small[\"Row\"].tolist():\n",
    "    if app_tr[c].dtype == object:\n",
    "        cmax = max(app_tr[c])\n",
    "        app_te[c].fillna(cmax,\n",
    "                  inplace=True  # inplace=True表示在原df上进行修改；\n",
    "                  )\n",
    "    else:\n",
    "        mean_num = app_tr[c].mean()\n",
    "        app_te[c].fillna(mean_num,\n",
    "                  inplace=True  # inplace=True表示在原df上进行修改；\n",
    "                  )\n",
    "    \n",
    "\n",
    "t = missing_values_table(app_te, \"application_{train|test}.csv\")\n",
    "temp = t.drop(columns=[\"Special\"]).isnull().T.any()\n",
    "temp.loc[temp == True].index\n",
    "rows = t.loc[temp.loc[temp == True].index].Row\n",
    "for col in rows:\n",
    "    app_te[str(col)] = app_te[str(col)].fillna(value=\"MyNull\")\n",
    "\n",
    "t = missing_values_table(app_te, \"application_{train|test}.csv\")\n",
    "t_house = t.loc[t[\"Description\"] ==\n",
    "                \"Normalized information about building where the client lives, What is average (_AVG suffix), modus (_MODE suffix), median (_MEDI suffix) apartment size, common area, living area, age of building, number of elevators, number of entrances, state of the building, number of floor\"]\n",
    "temp = app_te.loc[:, t_house[\"Row\"].tolist()].isnull().sum(axis=1)\n",
    "app_te[\"MY_HOUSE_OWN\"] = temp\n",
    "app_te_drop_list = t_house[\"Row\"].tolist()\n",
    "for col in app_te_drop_list:\n",
    "    app_te[col] = app_te[col].fillna(value=0)\n",
    "\n",
    "t = missing_values_table(app_te, \"application_{train|test}.csv\")\n",
    "app_te.loc[:,t_small[\"Row\"].tolist()]\n"
   ]
  },
  {
   "cell_type": "code",
   "execution_count": null,
   "metadata": {},
   "outputs": [],
   "source": [
    "# 可以发现和train表是一致的\n",
    "\n",
    "app_te[\"OWN_CAR_AGE\"] = app_te[\"OWN_CAR_AGE\"].fillna(value=0)\n",
    "app_te[\"EXT_SOURCE_1\"].fillna(tr_1_mean_val, inplace=True)\n",
    "app_te[\"EXT_SOURCE_3\"].fillna(tr_2_mean_val, inplace=True)\n",
    "t=missing_values_table(app_te,\"application_{train|test}.csv\")\n",
    "for s in t[\"Row\"].tolist():\n",
    "    app_te[s].fillna(0, inplace=True)\n",
    "t=missing_values_table(app_te,\"application_{train|test}.csv\")\n",
    "t"
   ]
  },
  {
   "cell_type": "code",
   "execution_count": null,
   "metadata": {},
   "outputs": [],
   "source": [
    "# 最后把准备删除的行给删除了\n",
    "\n",
    "app_tr.drop(columns=list(set(app_tr_drop_list+app_te_drop_list)),inplace=True)\n",
    "app_te.drop(columns=list(set(app_tr_drop_list+app_te_drop_list)),inplace=True)\n",
    "print(app_tr.shape)\n",
    "print(app_te.shape)"
   ]
  },
  {
   "cell_type": "code",
   "execution_count": null,
   "metadata": {},
   "outputs": [],
   "source": [
    "# 结果保存\n",
    "\n",
    "app_tr.to_csv(result_dir+\"\\\\application_train.csv\",index=False)\n",
    "app_te.to_csv(result_dir+\"\\\\application_test.csv\",index=False)"
   ]
  },
  {
   "attachments": {},
   "cell_type": "markdown",
   "metadata": {},
   "source": [
    "\n",
    "### 2. **previous_application.csv**"
   ]
  },
  {
   "cell_type": "code",
   "execution_count": null,
   "metadata": {},
   "outputs": [],
   "source": [
    "pre = pd.read_csv(pre_path)"
   ]
  },
  {
   "cell_type": "code",
   "execution_count": null,
   "metadata": {},
   "outputs": [],
   "source": [
    "# 结果保存\n",
    "\n",
    "pre.to_csv(result_dir+\"\\\\previous_application.csv\",index=False)"
   ]
  }
 ],
 "metadata": {
  "kernelspec": {
   "display_name": "Python 3",
   "language": "python",
   "name": "python3"
  },
  "language_info": {
   "codemirror_mode": {
    "name": "ipython",
    "version": 3
   },
   "file_extension": ".py",
   "mimetype": "text/x-python",
   "name": "python",
   "nbconvert_exporter": "python",
   "pygments_lexer": "ipython3",
   "version": "3.10.6"
  },
  "orig_nbformat": 4,
  "vscode": {
   "interpreter": {
    "hash": "f870677c45d0b848f8838643ff0cdaa874bfee58424ec4200d57895ce60ace4f"
   }
  }
 },
 "nbformat": 4,
 "nbformat_minor": 2
}
