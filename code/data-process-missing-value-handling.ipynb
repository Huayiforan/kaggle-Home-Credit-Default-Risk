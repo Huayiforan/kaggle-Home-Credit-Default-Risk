{
 "cells": [
  {
   "attachments": {},
   "cell_type": "markdown",
   "metadata": {},
   "source": [
    "\n",
    "# **数据挖掘——Home Credit Default Risk**\n",
    "\n",
    "Authors：李林（3120220938）、杨洋（3220211141）、敬甲男（3220221052）、李翰杰（3120220936）\n",
    "\n",
    "github地址：https://github.com/leealim/kaggle-Home-Credit-Default-Risk\n",
    "\n",
    "---\n",
    "\n",
    "## 数据预处理——缺失值处理\n",
    "\n",
    "共八张表，逐个进行处理：\n",
    "- application_{train|test}.csv:客户申请表\n",
    "- bureau.csv/bureau_balance.csv:客户历史借款记录\n",
    "- POS_CASH_balance.csv:客户POS和现金贷款历史\n",
    "- credit_card_balance.csv:客户信用卡的snapshot历史\n",
    "- previous_application.csv:客户历史申请记录\n",
    "- installments_payments.csv:客户信用卡还款记录\n",
    "\n",
    "---\n"
   ]
  },
  {
   "cell_type": "code",
   "execution_count": 3,
   "metadata": {},
   "outputs": [
    {
     "ename": "Exception",
     "evalue": "请补充数据集！",
     "output_type": "error",
     "traceback": [
      "\u001b[1;31m---------------------------------------------------------------------------\u001b[0m",
      "\u001b[1;31mException\u001b[0m                                 Traceback (most recent call last)",
      "Cell \u001b[1;32mIn[3], line 8\u001b[0m\n\u001b[0;32m      6\u001b[0m source_dir\u001b[39m=\u001b[39m\u001b[39m\"\u001b[39m\u001b[39m..\u001b[39m\u001b[39m\\\\\u001b[39;00m\u001b[39mhome-credit-default-risk\u001b[39m\u001b[39m\"\u001b[39m\n\u001b[0;32m      7\u001b[0m \u001b[39mif\u001b[39;00m \u001b[39mnot\u001b[39;00m os\u001b[39m.\u001b[39mpath\u001b[39m.\u001b[39mexists(source_dir):\n\u001b[1;32m----> 8\u001b[0m     \u001b[39mraise\u001b[39;00m \u001b[39mException\u001b[39;00m(\u001b[39m'\u001b[39m\u001b[39m请补充数据集！\u001b[39m\u001b[39m'\u001b[39m)\n\u001b[0;32m      9\u001b[0m result_dir\u001b[39m=\u001b[39m\u001b[39m\"\u001b[39m\u001b[39m..\u001b[39m\u001b[39m\\\\\u001b[39;00m\u001b[39mdata\u001b[39m\u001b[39m\\\\\u001b[39;00m\u001b[39mmiss_value_handling\u001b[39m\u001b[39m\"\u001b[39m\n\u001b[0;32m     11\u001b[0m app_tr_path \u001b[39m=\u001b[39m source_dir\u001b[39m+\u001b[39m\u001b[39m\"\u001b[39m\u001b[39m\\\\\u001b[39;00m\u001b[39mapplication_train.csv\u001b[39m\u001b[39m\"\u001b[39m\n",
      "\u001b[1;31mException\u001b[0m: 请补充数据集！"
     ]
    }
   ],
   "source": [
    "# 引入本部分所需要的包，并定义需要的值和函数\n",
    "\n",
    "import pandas as pd\n",
    "import os\n",
    "\n",
    "source_dir=\"..\\\\data\\\\home-credit-default-risk\"\n",
    "if not os.path.exists(source_dir):\n",
    "    raise Exception('请补充数据集！')\n",
    "result_dir=\"..\\\\data\\\\miss_value_handling\"\n",
    "\n",
    "app_tr_path = source_dir+\"\\\\application_train.csv\"\n",
    "app_te_path = source_dir+\"\\\\application_test.csv\"\n",
    "bur_path = source_dir+\"\\\\bureau.csv\"\n",
    "bur_bal_path = source_dir+\"\\\\bureau_balance.csv\"\n",
    "pos_path = source_dir+\"\\\\POS_CASH_balance.csv\"\n",
    "cre_path = source_dir+\"\\\\credit_card_balance.csv\"\n",
    "pre_path = source_dir+\"\\\\previous_application.csv\"\n",
    "ins_path = source_dir+\"\\\\installments_payments.csv\"\n",
    "hom_path = \"..\\\\data\\\\home-credit-default-risk\\\\HomeCredit_columns_description.csv\"  # 列描述表\n",
    "hom = pd.read_csv(hom_path)\n",
    "\n",
    "\n",
    "\n",
    "if not os.path.exists(result_dir):\n",
    "    os.makedirs(result_dir)\n",
    "\n",
    "def missing_values_table(df, table_name):\n",
    "    mis_val = df.isnull().sum()\n",
    "    mis_val_percent = 100 * df.isnull().sum() / len(df)\n",
    "    mis_val_table = pd.concat([mis_val, mis_val_percent], axis=1)\n",
    "    mis_val_table = mis_val_table.rename(\n",
    "        columns={0: 'Missing Values',\n",
    "                 1: '% of Total Values'})\n",
    "    mis_val_table = mis_val_table.sort_values(\n",
    "        '% of Total Values', ascending=False).round(1)\n",
    "    miss_num = (mis_val_table[\"Missing Values\"] != 0).sum()\n",
    "    print(\"Total \" + str(miss_num) + \" columns missing values\")\n",
    "    mis_val_table = mis_val_table.drop(index=mis_val_table[miss_num:].index)\n",
    "    mis_val_table = mis_val_table.merge(\n",
    "        hom, how=\"left\", left_index=True, right_on='Row')\n",
    "    mis_val_table = mis_val_table.drop(columns=['Unnamed: 0'])\n",
    "    mis_val_table = mis_val_table.drop(\n",
    "        index=mis_val_table.loc[mis_val_table[\"Table\"] != table_name].index)\n",
    "    mis_val_table = mis_val_table.reindex(\n",
    "        columns=[\"Row\", \"Description\", \"Special\", \"Missing Values\", \"% of Total Values\"])\n",
    "    mis_val_table = mis_val_table.reset_index(drop=True)\n",
    "    mis_val_table = mis_val_table.merge(\n",
    "        df.describe().T, how=\"left\", left_on=\"Row\", right_index=True)\n",
    "    return mis_val_table\n"
   ]
  },
  {
   "attachments": {},
   "cell_type": "markdown",
   "metadata": {},
   "source": [
    "\n",
    "### 1. **application_{train|test}.csv**"
   ]
  },
  {
   "cell_type": "code",
   "execution_count": 2,
   "metadata": {},
   "outputs": [
    {
     "ename": "FileNotFoundError",
     "evalue": "[Errno 2] No such file or directory: '..\\\\\\\\application_train.csv'",
     "output_type": "error",
     "traceback": [
      "\u001b[1;31m---------------------------------------------------------------------------\u001b[0m",
      "\u001b[1;31mFileNotFoundError\u001b[0m                         Traceback (most recent call last)",
      "Cell \u001b[1;32mIn[2], line 3\u001b[0m\n\u001b[0;32m      1\u001b[0m \u001b[39m# 查看训练数据的基本数据特征\u001b[39;00m\n\u001b[1;32m----> 3\u001b[0m app_tr \u001b[39m=\u001b[39m pd\u001b[39m.\u001b[39;49mread_csv(app_tr_path)\n\u001b[0;32m      4\u001b[0m app_tr\u001b[39m.\u001b[39mdescribe()\n",
      "File \u001b[1;32md:\\Documents\\4_SourceCode\\kaggle-Home-Credit-Default-Risk\\hcdrvenv\\lib\\site-packages\\pandas\\io\\parsers\\readers.py:912\u001b[0m, in \u001b[0;36mread_csv\u001b[1;34m(filepath_or_buffer, sep, delimiter, header, names, index_col, usecols, dtype, engine, converters, true_values, false_values, skipinitialspace, skiprows, skipfooter, nrows, na_values, keep_default_na, na_filter, verbose, skip_blank_lines, parse_dates, infer_datetime_format, keep_date_col, date_parser, date_format, dayfirst, cache_dates, iterator, chunksize, compression, thousands, decimal, lineterminator, quotechar, quoting, doublequote, escapechar, comment, encoding, encoding_errors, dialect, on_bad_lines, delim_whitespace, low_memory, memory_map, float_precision, storage_options, dtype_backend)\u001b[0m\n\u001b[0;32m    899\u001b[0m kwds_defaults \u001b[39m=\u001b[39m _refine_defaults_read(\n\u001b[0;32m    900\u001b[0m     dialect,\n\u001b[0;32m    901\u001b[0m     delimiter,\n\u001b[1;32m   (...)\u001b[0m\n\u001b[0;32m    908\u001b[0m     dtype_backend\u001b[39m=\u001b[39mdtype_backend,\n\u001b[0;32m    909\u001b[0m )\n\u001b[0;32m    910\u001b[0m kwds\u001b[39m.\u001b[39mupdate(kwds_defaults)\n\u001b[1;32m--> 912\u001b[0m \u001b[39mreturn\u001b[39;00m _read(filepath_or_buffer, kwds)\n",
      "File \u001b[1;32md:\\Documents\\4_SourceCode\\kaggle-Home-Credit-Default-Risk\\hcdrvenv\\lib\\site-packages\\pandas\\io\\parsers\\readers.py:577\u001b[0m, in \u001b[0;36m_read\u001b[1;34m(filepath_or_buffer, kwds)\u001b[0m\n\u001b[0;32m    574\u001b[0m _validate_names(kwds\u001b[39m.\u001b[39mget(\u001b[39m\"\u001b[39m\u001b[39mnames\u001b[39m\u001b[39m\"\u001b[39m, \u001b[39mNone\u001b[39;00m))\n\u001b[0;32m    576\u001b[0m \u001b[39m# Create the parser.\u001b[39;00m\n\u001b[1;32m--> 577\u001b[0m parser \u001b[39m=\u001b[39m TextFileReader(filepath_or_buffer, \u001b[39m*\u001b[39m\u001b[39m*\u001b[39mkwds)\n\u001b[0;32m    579\u001b[0m \u001b[39mif\u001b[39;00m chunksize \u001b[39mor\u001b[39;00m iterator:\n\u001b[0;32m    580\u001b[0m     \u001b[39mreturn\u001b[39;00m parser\n",
      "File \u001b[1;32md:\\Documents\\4_SourceCode\\kaggle-Home-Credit-Default-Risk\\hcdrvenv\\lib\\site-packages\\pandas\\io\\parsers\\readers.py:1407\u001b[0m, in \u001b[0;36mTextFileReader.__init__\u001b[1;34m(self, f, engine, **kwds)\u001b[0m\n\u001b[0;32m   1404\u001b[0m     \u001b[39mself\u001b[39m\u001b[39m.\u001b[39moptions[\u001b[39m\"\u001b[39m\u001b[39mhas_index_names\u001b[39m\u001b[39m\"\u001b[39m] \u001b[39m=\u001b[39m kwds[\u001b[39m\"\u001b[39m\u001b[39mhas_index_names\u001b[39m\u001b[39m\"\u001b[39m]\n\u001b[0;32m   1406\u001b[0m \u001b[39mself\u001b[39m\u001b[39m.\u001b[39mhandles: IOHandles \u001b[39m|\u001b[39m \u001b[39mNone\u001b[39;00m \u001b[39m=\u001b[39m \u001b[39mNone\u001b[39;00m\n\u001b[1;32m-> 1407\u001b[0m \u001b[39mself\u001b[39m\u001b[39m.\u001b[39m_engine \u001b[39m=\u001b[39m \u001b[39mself\u001b[39;49m\u001b[39m.\u001b[39;49m_make_engine(f, \u001b[39mself\u001b[39;49m\u001b[39m.\u001b[39;49mengine)\n",
      "File \u001b[1;32md:\\Documents\\4_SourceCode\\kaggle-Home-Credit-Default-Risk\\hcdrvenv\\lib\\site-packages\\pandas\\io\\parsers\\readers.py:1661\u001b[0m, in \u001b[0;36mTextFileReader._make_engine\u001b[1;34m(self, f, engine)\u001b[0m\n\u001b[0;32m   1659\u001b[0m     \u001b[39mif\u001b[39;00m \u001b[39m\"\u001b[39m\u001b[39mb\u001b[39m\u001b[39m\"\u001b[39m \u001b[39mnot\u001b[39;00m \u001b[39min\u001b[39;00m mode:\n\u001b[0;32m   1660\u001b[0m         mode \u001b[39m+\u001b[39m\u001b[39m=\u001b[39m \u001b[39m\"\u001b[39m\u001b[39mb\u001b[39m\u001b[39m\"\u001b[39m\n\u001b[1;32m-> 1661\u001b[0m \u001b[39mself\u001b[39m\u001b[39m.\u001b[39mhandles \u001b[39m=\u001b[39m get_handle(\n\u001b[0;32m   1662\u001b[0m     f,\n\u001b[0;32m   1663\u001b[0m     mode,\n\u001b[0;32m   1664\u001b[0m     encoding\u001b[39m=\u001b[39;49m\u001b[39mself\u001b[39;49m\u001b[39m.\u001b[39;49moptions\u001b[39m.\u001b[39;49mget(\u001b[39m\"\u001b[39;49m\u001b[39mencoding\u001b[39;49m\u001b[39m\"\u001b[39;49m, \u001b[39mNone\u001b[39;49;00m),\n\u001b[0;32m   1665\u001b[0m     compression\u001b[39m=\u001b[39;49m\u001b[39mself\u001b[39;49m\u001b[39m.\u001b[39;49moptions\u001b[39m.\u001b[39;49mget(\u001b[39m\"\u001b[39;49m\u001b[39mcompression\u001b[39;49m\u001b[39m\"\u001b[39;49m, \u001b[39mNone\u001b[39;49;00m),\n\u001b[0;32m   1666\u001b[0m     memory_map\u001b[39m=\u001b[39;49m\u001b[39mself\u001b[39;49m\u001b[39m.\u001b[39;49moptions\u001b[39m.\u001b[39;49mget(\u001b[39m\"\u001b[39;49m\u001b[39mmemory_map\u001b[39;49m\u001b[39m\"\u001b[39;49m, \u001b[39mFalse\u001b[39;49;00m),\n\u001b[0;32m   1667\u001b[0m     is_text\u001b[39m=\u001b[39;49mis_text,\n\u001b[0;32m   1668\u001b[0m     errors\u001b[39m=\u001b[39;49m\u001b[39mself\u001b[39;49m\u001b[39m.\u001b[39;49moptions\u001b[39m.\u001b[39;49mget(\u001b[39m\"\u001b[39;49m\u001b[39mencoding_errors\u001b[39;49m\u001b[39m\"\u001b[39;49m, \u001b[39m\"\u001b[39;49m\u001b[39mstrict\u001b[39;49m\u001b[39m\"\u001b[39;49m),\n\u001b[0;32m   1669\u001b[0m     storage_options\u001b[39m=\u001b[39;49m\u001b[39mself\u001b[39;49m\u001b[39m.\u001b[39;49moptions\u001b[39m.\u001b[39;49mget(\u001b[39m\"\u001b[39;49m\u001b[39mstorage_options\u001b[39;49m\u001b[39m\"\u001b[39;49m, \u001b[39mNone\u001b[39;49;00m),\n\u001b[0;32m   1670\u001b[0m )\n\u001b[0;32m   1671\u001b[0m \u001b[39massert\u001b[39;00m \u001b[39mself\u001b[39m\u001b[39m.\u001b[39mhandles \u001b[39mis\u001b[39;00m \u001b[39mnot\u001b[39;00m \u001b[39mNone\u001b[39;00m\n\u001b[0;32m   1672\u001b[0m f \u001b[39m=\u001b[39m \u001b[39mself\u001b[39m\u001b[39m.\u001b[39mhandles\u001b[39m.\u001b[39mhandle\n",
      "File \u001b[1;32md:\\Documents\\4_SourceCode\\kaggle-Home-Credit-Default-Risk\\hcdrvenv\\lib\\site-packages\\pandas\\io\\common.py:859\u001b[0m, in \u001b[0;36mget_handle\u001b[1;34m(path_or_buf, mode, encoding, compression, memory_map, is_text, errors, storage_options)\u001b[0m\n\u001b[0;32m    854\u001b[0m \u001b[39melif\u001b[39;00m \u001b[39misinstance\u001b[39m(handle, \u001b[39mstr\u001b[39m):\n\u001b[0;32m    855\u001b[0m     \u001b[39m# Check whether the filename is to be opened in binary mode.\u001b[39;00m\n\u001b[0;32m    856\u001b[0m     \u001b[39m# Binary mode does not support 'encoding' and 'newline'.\u001b[39;00m\n\u001b[0;32m    857\u001b[0m     \u001b[39mif\u001b[39;00m ioargs\u001b[39m.\u001b[39mencoding \u001b[39mand\u001b[39;00m \u001b[39m\"\u001b[39m\u001b[39mb\u001b[39m\u001b[39m\"\u001b[39m \u001b[39mnot\u001b[39;00m \u001b[39min\u001b[39;00m ioargs\u001b[39m.\u001b[39mmode:\n\u001b[0;32m    858\u001b[0m         \u001b[39m# Encoding\u001b[39;00m\n\u001b[1;32m--> 859\u001b[0m         handle \u001b[39m=\u001b[39m \u001b[39mopen\u001b[39;49m(\n\u001b[0;32m    860\u001b[0m             handle,\n\u001b[0;32m    861\u001b[0m             ioargs\u001b[39m.\u001b[39;49mmode,\n\u001b[0;32m    862\u001b[0m             encoding\u001b[39m=\u001b[39;49mioargs\u001b[39m.\u001b[39;49mencoding,\n\u001b[0;32m    863\u001b[0m             errors\u001b[39m=\u001b[39;49merrors,\n\u001b[0;32m    864\u001b[0m             newline\u001b[39m=\u001b[39;49m\u001b[39m\"\u001b[39;49m\u001b[39m\"\u001b[39;49m,\n\u001b[0;32m    865\u001b[0m         )\n\u001b[0;32m    866\u001b[0m     \u001b[39melse\u001b[39;00m:\n\u001b[0;32m    867\u001b[0m         \u001b[39m# Binary mode\u001b[39;00m\n\u001b[0;32m    868\u001b[0m         handle \u001b[39m=\u001b[39m \u001b[39mopen\u001b[39m(handle, ioargs\u001b[39m.\u001b[39mmode)\n",
      "\u001b[1;31mFileNotFoundError\u001b[0m: [Errno 2] No such file or directory: '..\\\\\\\\application_train.csv'"
     ]
    }
   ],
   "source": [
    "# 查看训练数据的基本数据特征\n",
    "\n",
    "app_tr = pd.read_csv(app_tr_path)\n",
    "app_tr.describe()\n"
   ]
  },
  {
   "cell_type": "code",
   "execution_count": null,
   "metadata": {},
   "outputs": [],
   "source": [
    "# 缺失值分析\n",
    "\n",
    "t = missing_values_table(app_tr, \"application_{train|test}.csv\")\n",
    "pd.set_option(\"display.max_rows\", 20)\n",
    "pd.set_option('max_colwidth',40)\n",
    "t\n"
   ]
  },
  {
   "cell_type": "code",
   "execution_count": null,
   "metadata": {},
   "outputs": [],
   "source": [
    "#获取较小的缺失值列信息\n",
    "\n",
    "t_small=t.loc[t[\"% of Total Values\"]<3]\n",
    "t_small\n"
   ]
  },
  {
   "cell_type": "code",
   "execution_count": null,
   "metadata": {},
   "outputs": [],
   "source": [
    "#获取较大的缺失值列信息\n",
    "\n",
    "t_large=t.loc[t[\"% of Total Values\"]>3]\n",
    "t_large"
   ]
  },
  {
   "attachments": {},
   "cell_type": "markdown",
   "metadata": {},
   "source": [
    "可以发现，残缺值数量差距很大，对于小于百分之一的残缺值，我们采取删去对应行的措施。\n"
   ]
  },
  {
   "cell_type": "code",
   "execution_count": null,
   "metadata": {},
   "outputs": [],
   "source": [
    "#删去部分行\n",
    "\n",
    "app_tr.dropna(subset=t_small[\"Row\"],\n",
    "          axis=0, # axis=0表示删除行；\n",
    "          how='any', # how=any表示若列name、age中，任意一个出现空值，就删掉该行\n",
    "          inplace=True # inplace=True表示在原df上进行修改；\n",
    "          )\n",
    "app_tr = app_tr.reset_index(drop=True)\n",
    "app_tr"
   ]
  },
  {
   "attachments": {},
   "cell_type": "markdown",
   "metadata": {},
   "source": [
    "对于残缺值比较大的行，我们逐一进行研究处理。首先，对每个特征融入统计数据。"
   ]
  },
  {
   "cell_type": "code",
   "execution_count": null,
   "metadata": {},
   "outputs": [],
   "source": [
    "t = missing_values_table(app_tr, \"application_{train|test}.csv\")\n",
    "pd.set_option(\"display.max_rows\", 400)\n",
    "pd.set_option('max_colwidth',400)\n",
    "t\n",
    "\n",
    "\n"
   ]
  },
  {
   "attachments": {},
   "cell_type": "markdown",
   "metadata": {},
   "source": [
    "可以发现还存在一些存在大量残缺值的分类数据。对于这些数据，在转化为数值数据时，多转化一个类别。\n",
    "另外，这里面有着大量缺失的房产数据，可以简化这些特征的拥有总和为一个特征，表明拥有房产的可信度。\n",
    "\n"
   ]
  },
  {
   "cell_type": "code",
   "execution_count": null,
   "metadata": {},
   "outputs": [],
   "source": [
    "#填补分类数据缺失值\n",
    "\n",
    "temp=t.drop(columns=[\"Special\"]).isnull().T.any()\n",
    "temp.loc[temp==True].index\n",
    "rows=t.loc[temp.loc[temp==True].index].Row\n",
    "\n",
    "for col in rows: \n",
    "    app_tr[str(col)] = app_tr[str(col)].fillna(value=\"MyNull\")\n",
    "    \n",
    "app_tr[str(rows.iloc[0])]"
   ]
  },
  {
   "cell_type": "code",
   "execution_count": null,
   "metadata": {},
   "outputs": [],
   "source": [
    "t=missing_values_table(app_tr,\"application_{train|test}.csv\")\n",
    "pd.set_option(\"display.max_rows\", 20)\n",
    "pd.set_option('max_colwidth',40)\n",
    "t"
   ]
  },
  {
   "cell_type": "code",
   "execution_count": null,
   "metadata": {},
   "outputs": [],
   "source": [
    "#重新理解房产数据,暂时存储删除列和test表合并删除，并将删除列的空值填补任意值。\n",
    "print(app_tr.shape)\n",
    "t_house=t.loc[t[\"Description\"]==\"Normalized information about building where the client lives, What is average (_AVG suffix), modus (_MODE suffix), median (_MEDI suffix) apartment size, common area, living area, age of building, number of elevators, number of entrances, state of the building, number of floor\"]\n",
    "temp=app_tr.loc[:,t_house[\"Row\"].tolist()].isnull().sum(axis=1)\n",
    "app_tr[\"MY_HOUSE_OWN\"]=temp\n",
    "app_tr_drop_list=t_house[\"Row\"].tolist()\n",
    "for col in app_tr_drop_list: \n",
    "    app_tr[col] = app_tr[col].fillna(value=0)\n",
    "app_tr"
   ]
  },
  {
   "cell_type": "code",
   "execution_count": null,
   "metadata": {},
   "outputs": [],
   "source": [
    "t=missing_values_table(app_tr,\"application_{train|test}.csv\")\n",
    "t"
   ]
  },
  {
   "attachments": {},
   "cell_type": "markdown",
   "metadata": {},
   "source": [
    "目前，还有9列缺失值，可以发现OWN_CAR_AGE是车辆拥有年限数据，缺失值可以置零   \n",
    "可以看到EXT_SOURCE_1和EXT_SOURCE_3比较平滑，直接用平均值代替  \n",
    "AMT_REQ_CREDIT_BUREAU的一列数据用0填补，缺失值可能说明这些客户并未有对应的enquiries"
   ]
  },
  {
   "cell_type": "code",
   "execution_count": null,
   "metadata": {},
   "outputs": [],
   "source": [
    "#处理OWN_CAR_AGE\n",
    "\n",
    "app_tr[\"OWN_CAR_AGE\"] = app_tr[\"OWN_CAR_AGE\"].fillna(value=0)\n",
    "app_tr[\"OWN_CAR_AGE\"]\n"
   ]
  },
  {
   "cell_type": "code",
   "execution_count": null,
   "metadata": {},
   "outputs": [],
   "source": [
    "#处理EXT_SOURCE_1和EXT_SOURCE_3\n",
    "\n",
    "tr_1_mean_val = app_tr[\"EXT_SOURCE_1\"].mean()\n",
    "app_tr[\"EXT_SOURCE_1\"].fillna(tr_1_mean_val, inplace=True)\n",
    "tr_2_mean_val = app_tr[\"EXT_SOURCE_3\"].mean()\n",
    "app_tr[\"EXT_SOURCE_3\"].fillna(tr_2_mean_val, inplace=True)\n"
   ]
  },
  {
   "cell_type": "code",
   "execution_count": null,
   "metadata": {},
   "outputs": [],
   "source": [
    "t=missing_values_table(app_tr,\"application_{train|test}.csv\")\n",
    "t"
   ]
  },
  {
   "cell_type": "code",
   "execution_count": null,
   "metadata": {},
   "outputs": [],
   "source": [
    "# 处理 AMT_REQ_CREDIT_BUREAU\n",
    "\n",
    "for s in t[\"Row\"].tolist():\n",
    "    app_tr[s].fillna(0, inplace=True)"
   ]
  },
  {
   "cell_type": "code",
   "execution_count": null,
   "metadata": {},
   "outputs": [],
   "source": [
    "t=missing_values_table(app_tr,\"application_{train|test}.csv\")\n",
    "t"
   ]
  },
  {
   "attachments": {},
   "cell_type": "markdown",
   "metadata": {},
   "source": [
    "至此，主表缺失值处理完毕。\n",
    "此外，也对app_te表进行处理\n"
   ]
  },
  {
   "cell_type": "code",
   "execution_count": null,
   "metadata": {},
   "outputs": [],
   "source": [
    "app_te = pd.read_csv(app_te_path)\n",
    "\n",
    "t = missing_values_table(app_te, \"application_{train|test}.csv\")\n",
    "t_small = t.loc[t[\"% of Total Values\"] < 3]\n",
    "t_large = t.loc[t[\"% of Total Values\"] > 3]\n",
    "for c in t_small[\"Row\"].tolist():\n",
    "    if app_tr[c].dtype == object:\n",
    "        cmax = max(app_tr[c])\n",
    "        app_te[c].fillna(cmax,\n",
    "                  inplace=True  # inplace=True表示在原df上进行修改；\n",
    "                  )\n",
    "    else:\n",
    "        mean_num = app_tr[c].mean()\n",
    "        app_te[c].fillna(mean_num,\n",
    "                  inplace=True  # inplace=True表示在原df上进行修改；\n",
    "                  )\n",
    "    \n",
    "\n",
    "t = missing_values_table(app_te, \"application_{train|test}.csv\")\n",
    "temp = t.drop(columns=[\"Special\"]).isnull().T.any()\n",
    "temp.loc[temp == True].index\n",
    "rows = t.loc[temp.loc[temp == True].index].Row\n",
    "for col in rows:\n",
    "    app_te[str(col)] = app_te[str(col)].fillna(value=\"MyNull\")\n",
    "\n",
    "t = missing_values_table(app_te, \"application_{train|test}.csv\")\n",
    "t_house = t.loc[t[\"Description\"] ==\n",
    "                \"Normalized information about building where the client lives, What is average (_AVG suffix), modus (_MODE suffix), median (_MEDI suffix) apartment size, common area, living area, age of building, number of elevators, number of entrances, state of the building, number of floor\"]\n",
    "temp = app_te.loc[:, t_house[\"Row\"].tolist()].isnull().sum(axis=1)\n",
    "app_te[\"MY_HOUSE_OWN\"] = temp\n",
    "app_te_drop_list = t_house[\"Row\"].tolist()\n",
    "for col in app_te_drop_list:\n",
    "    app_te[col] = app_te[col].fillna(value=0)\n",
    "\n",
    "t = missing_values_table(app_te, \"application_{train|test}.csv\")\n",
    "app_te.loc[:,t_small[\"Row\"].tolist()]\n"
   ]
  },
  {
   "cell_type": "code",
   "execution_count": null,
   "metadata": {},
   "outputs": [],
   "source": [
    "# 可以发现和train表是一致的\n",
    "\n",
    "app_te[\"OWN_CAR_AGE\"] = app_te[\"OWN_CAR_AGE\"].fillna(value=0)\n",
    "app_te[\"EXT_SOURCE_1\"].fillna(tr_1_mean_val, inplace=True)\n",
    "app_te[\"EXT_SOURCE_3\"].fillna(tr_2_mean_val, inplace=True)\n",
    "t=missing_values_table(app_te,\"application_{train|test}.csv\")\n",
    "for s in t[\"Row\"].tolist():\n",
    "    app_te[s].fillna(0, inplace=True)\n",
    "t=missing_values_table(app_te,\"application_{train|test}.csv\")\n",
    "t"
   ]
  },
  {
   "cell_type": "code",
   "execution_count": null,
   "metadata": {},
   "outputs": [],
   "source": [
    "# 最后把准备删除的行给删除了\n",
    "\n",
    "app_tr.drop(columns=list(set(app_tr_drop_list+app_te_drop_list)),inplace=True)\n",
    "app_te.drop(columns=list(set(app_tr_drop_list+app_te_drop_list)),inplace=True)\n",
    "print(app_tr.shape)\n",
    "print(app_te.shape)"
   ]
  },
  {
   "cell_type": "code",
   "execution_count": null,
   "metadata": {},
   "outputs": [],
   "source": [
    "# 结果保存\n",
    "\n",
    "app_tr.to_csv(result_dir+\"\\\\application_train.csv\",index=False)\n",
    "app_te.to_csv(result_dir+\"\\\\application_test.csv\",index=False)"
   ]
  },
  {
   "attachments": {},
   "cell_type": "markdown",
   "metadata": {},
   "source": [
    "\n",
    "### 2. **previous_application.csv**"
   ]
  },
  {
   "cell_type": "code",
   "execution_count": null,
   "metadata": {},
   "outputs": [],
   "source": [
    "pre = pd.read_csv(pre_path)"
   ]
  },
  {
   "cell_type": "code",
   "execution_count": null,
   "metadata": {},
   "outputs": [],
   "source": [
    "# 结果保存\n",
    "\n",
    "pre.to_csv(result_dir+\"\\\\previous_application.csv\",index=False)"
   ]
  }
 ],
 "metadata": {
  "kernelspec": {
   "display_name": "Python 3",
   "language": "python",
   "name": "python3"
  },
  "language_info": {
   "codemirror_mode": {
    "name": "ipython",
    "version": 3
   },
   "file_extension": ".py",
   "mimetype": "text/x-python",
   "name": "python",
   "nbconvert_exporter": "python",
   "pygments_lexer": "ipython3",
   "version": "3.10.6"
  },
  "orig_nbformat": 4,
  "vscode": {
   "interpreter": {
    "hash": "f870677c45d0b848f8838643ff0cdaa874bfee58424ec4200d57895ce60ace4f"
   }
  }
 },
 "nbformat": 4,
 "nbformat_minor": 2
}
