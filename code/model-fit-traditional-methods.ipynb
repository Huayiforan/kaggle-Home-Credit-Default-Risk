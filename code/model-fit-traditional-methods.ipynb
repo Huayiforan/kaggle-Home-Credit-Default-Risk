{
 "cells": [
  {
   "attachments": {},
   "cell_type": "markdown",
   "metadata": {},
   "source": [
    "\n",
    "# **数据挖掘——Home Credit Default Risk**\n",
    "\n",
    "Authors：李林（3120220938）、杨洋（3220211141）、敬甲男（3220221052）、李翰杰（3120220936）\n",
    "\n",
    "github地址：https://github.com/leealim/kaggle-Home-Credit-Default-Risk\n",
    "\n",
    "---\n",
    "## 模型拟合——传统方法\n",
    "\n",
    "有多种模型可以考虑：\n",
    "\n",
    "> LightGBM/XGBoost  \n",
    "> Ridge/Logistic Regression/FM  \n",
    "> FFNN\n",
    "\n",
    "---"
   ]
  },
  {
   "cell_type": "code",
   "execution_count": 12,
   "metadata": {},
   "outputs": [],
   "source": [
    "import pandas as pd\n",
    "import os\n",
    "\n",
    "version='v1.4'\n",
    "source_dir=\"..\\\\data\\\\choosing\"\n",
    "result_dir='..\\\\result\\\\'+version+\"\\\\traditional\"\n",
    "\n",
    "tr_path=source_dir+\"\\\\application_train.csv\"\n",
    "te_path=source_dir+\"\\\\application_test.csv\"\n",
    "\n",
    "if not os.path.exists(result_dir):\n",
    "    os.makedirs(result_dir)\n",
    "\n",
    "train = pd.read_csv(tr_path)\n",
    "test = pd.read_csv(te_path)"
   ]
  },
  {
   "cell_type": "code",
   "execution_count": 20,
   "metadata": {},
   "outputs": [],
   "source": [
    "\n",
    "from sklearn.model_selection import train_test_split\n",
    "import xgboost\n",
    "\n",
    "x = train.iloc[:, 1:-1].values\n",
    "y = train['TARGET'].values\n",
    "\n",
    "x_train, x_test, y_train, y_test = train_test_split(\n",
    "    x, y, test_size=0.2, random_state=5)\n",
    "model = xgboost.XGBClassifier(n_estimatores=20, max_depth=8, subsample=0.8, colsample_bytree=0.8,\n",
    "                              min_child_weight=10, random_state=27).fit(x_train, y_train)\n",
    "\n",
    "model.classes_"
   ]
  },
  {
   "cell_type": "code",
   "execution_count": 23,
   "metadata": {},
   "outputs": [
    {
     "ename": "ValueError",
     "evalue": "Feature shape mismatch, expected: 189, got 470",
     "output_type": "error",
     "traceback": [
      "\u001b[1;31m---------------------------------------------------------------------------\u001b[0m",
      "\u001b[1;31mValueError\u001b[0m                                Traceback (most recent call last)",
      "Cell \u001b[1;32mIn[23], line 9\u001b[0m\n\u001b[0;32m      7\u001b[0m booster\u001b[39m.\u001b[39mload_model(\u001b[39m'\u001b[39m\u001b[39m..\u001b[39m\u001b[39m\\\\\u001b[39;00m\u001b[39mresult\u001b[39m\u001b[39m\\\\\u001b[39;00m\u001b[39m'\u001b[39m\u001b[39m+\u001b[39m\u001b[39m\"\u001b[39m\u001b[39mv1.0\u001b[39m\u001b[39m\"\u001b[39m\u001b[39m+\u001b[39m\u001b[39m\"\u001b[39m\u001b[39m\\\\\u001b[39;00m\u001b[39mtraditional\u001b[39m\u001b[39m\"\u001b[39m\u001b[39m+\u001b[39m\u001b[39m\"\u001b[39m\u001b[39m\\\\\u001b[39;00m\u001b[39mmodel.json\u001b[39m\u001b[39m\"\u001b[39m)\n\u001b[0;32m      8\u001b[0m model\u001b[39m.\u001b[39m_Booster \u001b[39m=\u001b[39m booster\n\u001b[1;32m----> 9\u001b[0m ans_test \u001b[39m=\u001b[39m model\u001b[39m.\u001b[39;49mpredict_proba(test\u001b[39m.\u001b[39;49miloc[:,\u001b[39m1\u001b[39;49m:]\u001b[39m.\u001b[39;49mvalues)\n\u001b[0;32m     10\u001b[0m ans\u001b[39m=\u001b[39mans_test[:,\u001b[39m1\u001b[39m]\n\u001b[0;32m     11\u001b[0m booster\u001b[39m.\u001b[39mload_model(\u001b[39m'\u001b[39m\u001b[39m..\u001b[39m\u001b[39m\\\\\u001b[39;00m\u001b[39mresult\u001b[39m\u001b[39m\\\\\u001b[39;00m\u001b[39m'\u001b[39m\u001b[39m+\u001b[39m\u001b[39m\"\u001b[39m\u001b[39mv1.1\u001b[39m\u001b[39m\"\u001b[39m\u001b[39m+\u001b[39m\u001b[39m\"\u001b[39m\u001b[39m\\\\\u001b[39;00m\u001b[39mtraditional\u001b[39m\u001b[39m\"\u001b[39m\u001b[39m+\u001b[39m\u001b[39m\"\u001b[39m\u001b[39m\\\\\u001b[39;00m\u001b[39mmodel.json\u001b[39m\u001b[39m\"\u001b[39m)\n",
      "File \u001b[1;32md:\\Documents\\4_SourceCode\\kaggle-Home-Credit-Default-Risk\\hcdrvenv\\lib\\site-packages\\xgboost\\sklearn.py:1606\u001b[0m, in \u001b[0;36mXGBClassifier.predict_proba\u001b[1;34m(self, X, ntree_limit, validate_features, base_margin, iteration_range)\u001b[0m\n\u001b[0;32m   1604\u001b[0m     class_prob \u001b[39m=\u001b[39m softmax(raw_predt, axis\u001b[39m=\u001b[39m\u001b[39m1\u001b[39m)\n\u001b[0;32m   1605\u001b[0m     \u001b[39mreturn\u001b[39;00m class_prob\n\u001b[1;32m-> 1606\u001b[0m class_probs \u001b[39m=\u001b[39m \u001b[39msuper\u001b[39;49m()\u001b[39m.\u001b[39;49mpredict(\n\u001b[0;32m   1607\u001b[0m     X\u001b[39m=\u001b[39;49mX,\n\u001b[0;32m   1608\u001b[0m     ntree_limit\u001b[39m=\u001b[39;49mntree_limit,\n\u001b[0;32m   1609\u001b[0m     validate_features\u001b[39m=\u001b[39;49mvalidate_features,\n\u001b[0;32m   1610\u001b[0m     base_margin\u001b[39m=\u001b[39;49mbase_margin,\n\u001b[0;32m   1611\u001b[0m     iteration_range\u001b[39m=\u001b[39;49miteration_range,\n\u001b[0;32m   1612\u001b[0m )\n\u001b[0;32m   1613\u001b[0m \u001b[39m# If model is loaded from a raw booster there's no `n_classes_`\u001b[39;00m\n\u001b[0;32m   1614\u001b[0m \u001b[39mreturn\u001b[39;00m _cls_predict_proba(\n\u001b[0;32m   1615\u001b[0m     \u001b[39mgetattr\u001b[39m(\u001b[39mself\u001b[39m, \u001b[39m\"\u001b[39m\u001b[39mn_classes_\u001b[39m\u001b[39m\"\u001b[39m, \u001b[39m0\u001b[39m), class_probs, np\u001b[39m.\u001b[39mvstack\n\u001b[0;32m   1616\u001b[0m )\n",
      "File \u001b[1;32md:\\Documents\\4_SourceCode\\kaggle-Home-Credit-Default-Risk\\hcdrvenv\\lib\\site-packages\\xgboost\\sklearn.py:1114\u001b[0m, in \u001b[0;36mXGBModel.predict\u001b[1;34m(self, X, output_margin, ntree_limit, validate_features, base_margin, iteration_range)\u001b[0m\n\u001b[0;32m   1112\u001b[0m \u001b[39mif\u001b[39;00m \u001b[39mself\u001b[39m\u001b[39m.\u001b[39m_can_use_inplace_predict():\n\u001b[0;32m   1113\u001b[0m     \u001b[39mtry\u001b[39;00m:\n\u001b[1;32m-> 1114\u001b[0m         predts \u001b[39m=\u001b[39m \u001b[39mself\u001b[39;49m\u001b[39m.\u001b[39;49mget_booster()\u001b[39m.\u001b[39;49minplace_predict(\n\u001b[0;32m   1115\u001b[0m             data\u001b[39m=\u001b[39;49mX,\n\u001b[0;32m   1116\u001b[0m             iteration_range\u001b[39m=\u001b[39;49miteration_range,\n\u001b[0;32m   1117\u001b[0m             predict_type\u001b[39m=\u001b[39;49m\u001b[39m\"\u001b[39;49m\u001b[39mmargin\u001b[39;49m\u001b[39m\"\u001b[39;49m \u001b[39mif\u001b[39;49;00m output_margin \u001b[39melse\u001b[39;49;00m \u001b[39m\"\u001b[39;49m\u001b[39mvalue\u001b[39;49m\u001b[39m\"\u001b[39;49m,\n\u001b[0;32m   1118\u001b[0m             missing\u001b[39m=\u001b[39;49m\u001b[39mself\u001b[39;49m\u001b[39m.\u001b[39;49mmissing,\n\u001b[0;32m   1119\u001b[0m             base_margin\u001b[39m=\u001b[39;49mbase_margin,\n\u001b[0;32m   1120\u001b[0m             validate_features\u001b[39m=\u001b[39;49mvalidate_features,\n\u001b[0;32m   1121\u001b[0m         )\n\u001b[0;32m   1122\u001b[0m         \u001b[39mif\u001b[39;00m _is_cupy_array(predts):\n\u001b[0;32m   1123\u001b[0m             \u001b[39mimport\u001b[39;00m \u001b[39mcupy\u001b[39;00m  \u001b[39m# pylint: disable=import-error\u001b[39;00m\n",
      "File \u001b[1;32md:\\Documents\\4_SourceCode\\kaggle-Home-Credit-Default-Risk\\hcdrvenv\\lib\\site-packages\\xgboost\\core.py:2269\u001b[0m, in \u001b[0;36mBooster.inplace_predict\u001b[1;34m(self, data, iteration_range, predict_type, missing, validate_features, base_margin, strict_shape)\u001b[0m\n\u001b[0;32m   2265\u001b[0m         \u001b[39mraise\u001b[39;00m \u001b[39mTypeError\u001b[39;00m(\n\u001b[0;32m   2266\u001b[0m             \u001b[39m\"\u001b[39m\u001b[39m`shape` attribute is required when `validate_features` is True.\u001b[39m\u001b[39m\"\u001b[39m\n\u001b[0;32m   2267\u001b[0m         )\n\u001b[0;32m   2268\u001b[0m     \u001b[39mif\u001b[39;00m \u001b[39mlen\u001b[39m(data\u001b[39m.\u001b[39mshape) \u001b[39m!=\u001b[39m \u001b[39m1\u001b[39m \u001b[39mand\u001b[39;00m \u001b[39mself\u001b[39m\u001b[39m.\u001b[39mnum_features() \u001b[39m!=\u001b[39m data\u001b[39m.\u001b[39mshape[\u001b[39m1\u001b[39m]:\n\u001b[1;32m-> 2269\u001b[0m         \u001b[39mraise\u001b[39;00m \u001b[39mValueError\u001b[39;00m(\n\u001b[0;32m   2270\u001b[0m             \u001b[39mf\u001b[39m\u001b[39m\"\u001b[39m\u001b[39mFeature shape mismatch, expected: \u001b[39m\u001b[39m{\u001b[39;00m\u001b[39mself\u001b[39m\u001b[39m.\u001b[39mnum_features()\u001b[39m}\u001b[39;00m\u001b[39m, \u001b[39m\u001b[39m\"\u001b[39m\n\u001b[0;32m   2271\u001b[0m             \u001b[39mf\u001b[39m\u001b[39m\"\u001b[39m\u001b[39mgot \u001b[39m\u001b[39m{\u001b[39;00mdata\u001b[39m.\u001b[39mshape[\u001b[39m1\u001b[39m]\u001b[39m}\u001b[39;00m\u001b[39m\"\u001b[39m\n\u001b[0;32m   2272\u001b[0m         )\n\u001b[0;32m   2274\u001b[0m \u001b[39mfrom\u001b[39;00m \u001b[39m.\u001b[39;00m\u001b[39mdata\u001b[39;00m \u001b[39mimport\u001b[39;00m (\n\u001b[0;32m   2275\u001b[0m     _array_interface,\n\u001b[0;32m   2276\u001b[0m     _is_cudf_df,\n\u001b[1;32m   (...)\u001b[0m\n\u001b[0;32m   2279\u001b[0m     _transform_pandas_df,\n\u001b[0;32m   2280\u001b[0m )\n\u001b[0;32m   2282\u001b[0m enable_categorical \u001b[39m=\u001b[39m _has_categorical(\u001b[39mself\u001b[39m, data)\n",
      "\u001b[1;31mValueError\u001b[0m: Feature shape mismatch, expected: 189, got 470"
     ]
    }
   ],
   "source": [
    "import xgboost\n",
    "from xgboost import XGBClassifier\n",
    "\n",
    "\n",
    "model = XGBClassifier()\n",
    "booster = xgboost.Booster()\n",
    "booster.load_model('..\\\\result\\\\'+\"v1.0\"+\"\\\\traditional\"+\"\\\\model.json\")\n",
    "model._Booster = booster\n",
    "ans_test = model.predict_proba(test.iloc[:,1:].values)\n",
    "ans=ans_test[:,1]\n",
    "booster.load_model('..\\\\result\\\\'+\"v1.1\"+\"\\\\traditional\"+\"\\\\model.json\")\n",
    "ans_test = model.predict_proba(test.iloc[:,1:].values)\n",
    "ans=ans+ans_test[:,1]\n",
    "\n",
    "ans"
   ]
  },
  {
   "cell_type": "code",
   "execution_count": 15,
   "metadata": {},
   "outputs": [
    {
     "name": "stdout",
     "output_type": "stream",
     "text": [
      "(48744, 2)\n"
     ]
    }
   ],
   "source": [
    "#生成答案，并保存模型\n",
    "\n",
    "index=test['SK_ID_CURR']\n",
    "ans=pd.DataFrame(ans_test[:,1],columns = ['TARGET'])\n",
    "result=pd.concat([index,ans],axis=1)\n",
    "\n",
    "result.to_csv(result_dir+'\\\\submission.csv',encoding = 'utf-8',index = 0)\n",
    "\n",
    "print(result.shape)\n",
    "\n",
    "model.save_model(result_dir+'\\\\model.json')\n",
    "\n",
    "# model_xgb_2 = xgboost.Booster()\n",
    "# model_xgb_2.load_model(\"model.json\")\n"
   ]
  }
 ],
 "metadata": {
  "kernelspec": {
   "display_name": "Python 3",
   "language": "python",
   "name": "python3"
  },
  "language_info": {
   "codemirror_mode": {
    "name": "ipython",
    "version": 3
   },
   "file_extension": ".py",
   "mimetype": "text/x-python",
   "name": "python",
   "nbconvert_exporter": "python",
   "pygments_lexer": "ipython3",
   "version": "3.10.6"
  },
  "orig_nbformat": 4
 },
 "nbformat": 4,
 "nbformat_minor": 2
}
