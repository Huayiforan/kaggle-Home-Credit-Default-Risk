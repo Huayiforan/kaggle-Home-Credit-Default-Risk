{
 "cells": [
  {
   "attachments": {},
   "cell_type": "markdown",
   "metadata": {},
   "source": [
    "\n",
    "# **数据挖掘——Home Credit Default Risk**\n",
    "\n",
    "Authors：李林（3120220938）、杨洋（3220211141）、敬甲男（3220221052）、李翰杰（3120220936）\n",
    "\n",
    "github地址：https://github.com/leealim/kaggle-Home-Credit-Default-Risk\n",
    "\n",
    "---\n",
    "## 模型拟合——传统方法\n",
    "\n",
    "有多种模型可以考虑：\n",
    "\n",
    "> LightGBM/XGBoost  \n",
    "> Ridge/Logistic Regression/FM  \n",
    "> FFNN\n",
    "\n",
    "---"
   ]
  },
  {
   "cell_type": "code",
   "execution_count": 12,
   "metadata": {},
   "outputs": [],
   "source": [
    "import pandas as pd\n",
    "import os\n",
    "\n",
    "version='v1.1'\n",
    "source_dir=\"..\\\\data\\\\choosing\"\n",
    "result_dir='..\\\\result\\\\'+version+\"\\\\traditional\"\n",
    "\n",
    "tr_path=source_dir+\"\\\\application_train.csv\"\n",
    "te_path=source_dir+\"\\\\application_test.csv\"\n",
    "\n",
    "if not os.path.exists(result_dir):\n",
    "    os.makedirs(result_dir)\n",
    "\n",
    "train = pd.read_csv(tr_path)\n",
    "test = pd.read_csv(te_path)"
   ]
  },
  {
   "cell_type": "code",
   "execution_count": 13,
   "metadata": {},
   "outputs": [
    {
     "name": "stdout",
     "output_type": "stream",
     "text": [
      "[21:18:07] WARNING: C:\\buildkite-agent\\builds\\buildkite-windows-cpu-autoscaling-group-i-07593ffd91cd9da33-1\\xgboost\\xgboost-ci-windows\\src\\learner.cc:767: \n",
      "Parameters: { \"n_estimatores\" } are not used.\n",
      "\n"
     ]
    },
    {
     "data": {
      "text/plain": [
       "array([0, 1], dtype=int64)"
      ]
     },
     "execution_count": 13,
     "metadata": {},
     "output_type": "execute_result"
    }
   ],
   "source": [
    "\n",
    "from sklearn.model_selection import train_test_split\n",
    "import xgboost\n",
    "\n",
    "x = train.iloc[:, 1:-1].values\n",
    "y = train['TARGET'].values\n",
    "\n",
    "x_train, x_test, y_train, y_test = train_test_split(\n",
    "    x, y, test_size=0.2, random_state=5)\n",
    "model = xgboost.XGBClassifier(n_estimatores=20, max_depth=8, subsample=0.8, colsample_bytree=0.8,\n",
    "                              min_child_weight=10, random_state=27).fit(x_train, y_train)\n",
    "\n",
    "model.classes_"
   ]
  },
  {
   "cell_type": "code",
   "execution_count": 14,
   "metadata": {},
   "outputs": [
    {
     "name": "stdout",
     "output_type": "stream",
     "text": [
      "[[0.9816405  0.01835946]\n",
      " [0.82644653 0.17355347]\n",
      " [0.9579538  0.04204616]\n",
      " ...\n",
      " [0.9287525  0.07124753]\n",
      " [0.95793027 0.04206973]\n",
      " [0.8508354  0.14916463]]\n"
     ]
    }
   ],
   "source": [
    "ans_test = model.predict_proba(test.iloc[:,1:].values)\n",
    "print(ans_test)"
   ]
  },
  {
   "cell_type": "code",
   "execution_count": 15,
   "metadata": {},
   "outputs": [
    {
     "name": "stdout",
     "output_type": "stream",
     "text": [
      "(48744, 2)\n"
     ]
    }
   ],
   "source": [
    "#生成答案，并保存模型\n",
    "\n",
    "index=test['SK_ID_CURR']\n",
    "ans=pd.DataFrame(ans_test[:,1],columns = ['TARGET'])\n",
    "result=pd.concat([index,ans],axis=1)\n",
    "\n",
    "result.to_csv(result_dir+'\\\\submission.csv',encoding = 'utf-8',index = 0)\n",
    "\n",
    "print(result.shape)\n",
    "\n",
    "model.save_model(result_dir+'\\\\model.json')\n",
    "\n",
    "# model_xgb_2 = xgboost.Booster()\n",
    "# model_xgb_2.load_model(\"model.json\")\n"
   ]
  }
 ],
 "metadata": {
  "kernelspec": {
   "display_name": "Python 3",
   "language": "python",
   "name": "python3"
  },
  "language_info": {
   "codemirror_mode": {
    "name": "ipython",
    "version": 3
   },
   "file_extension": ".py",
   "mimetype": "text/x-python",
   "name": "python",
   "nbconvert_exporter": "python",
   "pygments_lexer": "ipython3",
   "version": "3.10.6"
  },
  "orig_nbformat": 4
 },
 "nbformat": 4,
 "nbformat_minor": 2
}
