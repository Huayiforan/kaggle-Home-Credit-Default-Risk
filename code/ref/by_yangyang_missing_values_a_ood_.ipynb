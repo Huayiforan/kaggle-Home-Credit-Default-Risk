{
 "cells": [
  {
   "cell_type": "code",
   "execution_count": 1,
   "metadata": {},
   "outputs": [],
   "source": [
    "#引入本部分所需要的包\n",
    "\n",
    "import numpy as np\n",
    "import pandas as pd\n",
    "import matplotlib.pyplot as plt\n",
    "\n",
    "app_tr_path=\"..\\\\data\\\\home-credit-default-risk\\\\application_train.csv\"\n",
    "app_te_path=\"..\\\\data\\\\home-credit-default-risk\\\\application_test.csv\"\n",
    "bur_path=\"..\\\\data\\\\home-credit-default-risk\\\\bureau.csv\"\n",
    "bur_bal_path=\"..\\\\data\\\\home-credit-default-risk\\\\bureau_balance.csv\"\n",
    "pos_path=\"..\\\\data\\\\home-credit-default-risk\\\\POS_CASH_balance.csv\"\n",
    "cre_path=\"..\\\\data\\\\home-credit-default-risk\\\\credit_card_balance.csv\"\n",
    "pre_path=\"..\\\\data\\\\home-credit-default-risk\\\\previous_application.csv\"\n",
    "ins_path=\"..\\\\data\\\\home-credit-default-risk\\\\installments_payments.csv\"\n",
    "\n",
    "hom_path=\"..\\\\data\\\\home-credit-default-risk\\\\HomeCredit_columns_description.csv\"# 列描述表"
   ]
  },
  {
   "cell_type": "markdown",
   "metadata": {},
   "source": [
    "\n",
    "### 1. **application_{train|test}.csv**"
   ]
  },
  {
   "cell_type": "code",
   "execution_count": 2,
   "metadata": {},
   "outputs": [],
   "source": [
    "#导入数据\n",
    "\n",
    "app_tr=pd.read_csv(app_tr_path)\n",
    "app_te=pd.read_csv(app_te_path)"
   ]
  },
  {
   "cell_type": "code",
   "execution_count": 3,
   "metadata": {},
   "outputs": [
    {
     "name": "stdout",
     "output_type": "stream",
     "text": [
      "<class 'pandas.core.frame.DataFrame'>\n",
      "RangeIndex: 307511 entries, 0 to 307510\n",
      "Columns: 122 entries, SK_ID_CURR to AMT_REQ_CREDIT_BUREAU_YEAR\n",
      "dtypes: float64(65), int64(41), object(16)\n",
      "memory usage: 286.2+ MB\n"
     ]
    }
   ],
   "source": [
    "#查看数据的基本信息\n",
    "\n",
    "app_tr.info()"
   ]
  },
  {
   "cell_type": "code",
   "execution_count": 4,
   "metadata": {},
   "outputs": [
    {
     "data": {
      "text/plain": [
       "SK_ID_CURR                        0\n",
       "TARGET                            0\n",
       "NAME_CONTRACT_TYPE                0\n",
       "CODE_GENDER                       0\n",
       "FLAG_OWN_CAR                      0\n",
       "                              ...  \n",
       "AMT_REQ_CREDIT_BUREAU_DAY     41519\n",
       "AMT_REQ_CREDIT_BUREAU_WEEK    41519\n",
       "AMT_REQ_CREDIT_BUREAU_MON     41519\n",
       "AMT_REQ_CREDIT_BUREAU_QRT     41519\n",
       "AMT_REQ_CREDIT_BUREAU_YEAR    41519\n",
       "Length: 122, dtype: int64"
      ]
     },
     "execution_count": 4,
     "metadata": {},
     "output_type": "execute_result"
    }
   ],
   "source": [
    "#缺失值处理\n",
    "\n",
    "#查看数据各属性的缺失值个数\n",
    "np.sum(app_tr.isnull(),axis = 0)"
   ]
  },
  {
   "cell_type": "code",
   "execution_count": 5,
   "metadata": {},
   "outputs": [],
   "source": [
    "#用各属性的最高频率值来填补缺失值\n",
    "\n",
    "def fillnan_most(data):\n",
    "    df = data.copy(deep=True)\n",
    "    for col in df.columns: \n",
    "        most = df[col].value_counts().index[0]\n",
    "        df[col] = df[col].fillna(most)\n",
    "    return df\n",
    "\n",
    "app_tr_1=fillnan_most(app_tr)\n",
    "app_te_1=fillnan_most(app_te)"
   ]
  },
  {
   "cell_type": "code",
   "execution_count": 6,
   "metadata": {},
   "outputs": [
    {
     "data": {
      "text/plain": [
       "SK_ID_CURR                    0\n",
       "NAME_CONTRACT_TYPE            0\n",
       "CODE_GENDER                   0\n",
       "FLAG_OWN_CAR                  0\n",
       "FLAG_OWN_REALTY               0\n",
       "                             ..\n",
       "AMT_REQ_CREDIT_BUREAU_DAY     0\n",
       "AMT_REQ_CREDIT_BUREAU_WEEK    0\n",
       "AMT_REQ_CREDIT_BUREAU_MON     0\n",
       "AMT_REQ_CREDIT_BUREAU_QRT     0\n",
       "AMT_REQ_CREDIT_BUREAU_YEAR    0\n",
       "Length: 121, dtype: int64"
      ]
     },
     "execution_count": 6,
     "metadata": {},
     "output_type": "execute_result"
    }
   ],
   "source": [
    "#查看缺失值处理后各属性的缺失值个数\n",
    "\n",
    "np.sum(app_te_1.isnull(),axis = 0)"
   ]
  },
  {
   "cell_type": "code",
   "execution_count": 7,
   "metadata": {},
   "outputs": [],
   "source": [
    "#异常值处理\n",
    "\n",
    "#对于数值属性，用盒图来判断异常值，将异常值设为空值，并用各属性的最高频率值来填补\n",
    "\n",
    "def box_outlier(data):\n",
    "    df = data.copy(deep=True)\n",
    "    for col in df.select_dtypes(exclude='object').columns:             # 对数值属性的每一列分别用盒图进行判断\n",
    "        Q1 = df[col].quantile(q=0.25)       # 下四分位\n",
    "        Q3 = df[col].quantile(q=0.75)       # 上四分位\n",
    "        low_whisker = Q1 - 1.5 * (Q3 - Q1)  # 下边缘\n",
    "        up_whisker = Q3 + 1.5 * (Q3 - Q1)   # 上边缘\n",
    "        \n",
    "        # 寻找异常点,获得异常点索引值，将异常值设为空值\n",
    "        rule = (df[col] > up_whisker) | (df[col] < low_whisker)  \n",
    "        out = df[col].index[rule]\n",
    "        df.loc[out,col]=np.nan\n",
    "    return df\n",
    "\n",
    "app_tr_2=box_outlier(app_tr_1)\n",
    "app_te_2=box_outlier(app_te_1)"
   ]
  },
  {
   "cell_type": "code",
   "execution_count": 8,
   "metadata": {},
   "outputs": [],
   "source": [
    "#用各属性的最高频率值来填补空值\n",
    "\n",
    "app_tr_3=fillnan_most(app_tr_2)\n",
    "app_te_3=fillnan_most(app_te_2)"
   ]
  },
  {
   "cell_type": "code",
   "execution_count": 9,
   "metadata": {},
   "outputs": [],
   "source": [
    "#将数据导出\n",
    "\n",
    "app_tr_3.to_csv(\"../data/app_tr.csv\")\n",
    "app_te_3.to_csv(\"../data/app_te.csv\")\n"
   ]
  }
 ],
 "metadata": {
  "kernelspec": {
   "display_name": "Python 3",
   "language": "python",
   "name": "python3"
  },
  "language_info": {
   "codemirror_mode": {
    "name": "ipython",
    "version": 3
   },
   "file_extension": ".py",
   "mimetype": "text/x-python",
   "name": "python",
   "nbconvert_exporter": "python",
   "pygments_lexer": "ipython3",
   "version": "3.10.6"
  }
 },
 "nbformat": 4,
 "nbformat_minor": 2
}
