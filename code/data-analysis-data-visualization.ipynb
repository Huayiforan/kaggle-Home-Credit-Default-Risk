{
 "cells": [
  {
   "attachments": {},
   "cell_type": "markdown",
   "metadata": {},
   "source": [
    "\n",
    "# **数据挖掘——Home Credit Default Risk**\n",
    "\n",
    "Authors：李林（3120220938）、杨洋（3220211141）、敬甲男（3220221052）、李翰杰（3120220936）\n",
    "\n",
    "github地址：https://github.com/leealim/kaggle-Home-Credit-Default-Risk\n",
    "\n",
    "---\n",
    "\n",
    "## 数据分析——数据可视化\n",
    "\n",
    "共八张表，逐个进行处理：\n",
    "- application_{train|test}.csv:客户申请表\n",
    "- bureau.csv/bureau_balance.csv:客户历史借款记录\n",
    "- POS_CASH_balance.csv:客户POS和现金贷款历史\n",
    "- credit_card_balance.csv:客户信用卡的snapshot历史\n",
    "- previous_application.csv:客户历史申请记录\n",
    "- installments_payments.csv:客户信用卡还款记录\n",
    "\n",
    "---\n"
   ]
  },
  {
   "cell_type": "code",
   "execution_count": 1,
   "metadata": {},
   "outputs": [
    {
     "ename": "ModuleNotFoundError",
     "evalue": "No module named 'pandas'",
     "output_type": "error",
     "traceback": [
      "\u001b[1;31m---------------------------------------------------------------------------\u001b[0m",
      "\u001b[1;31mModuleNotFoundError\u001b[0m                       Traceback (most recent call last)",
      "Cell \u001b[1;32mIn[1], line 3\u001b[0m\n\u001b[0;32m      1\u001b[0m \u001b[39m# 引入本部分所需要的包，并定义需要的值和函数\u001b[39;00m\n\u001b[1;32m----> 3\u001b[0m \u001b[39mimport\u001b[39;00m \u001b[39mpandas\u001b[39;00m \u001b[39mas\u001b[39;00m \u001b[39mpd\u001b[39;00m\n\u001b[0;32m      5\u001b[0m source_dir\u001b[39m=\u001b[39m\u001b[39m\"\u001b[39m\u001b[39m..\u001b[39m\u001b[39m\\\\\u001b[39;00m\u001b[39mdata\u001b[39m\u001b[39m\\\\\u001b[39;00m\u001b[39mhome-credit-default-risk\u001b[39m\u001b[39m\"\u001b[39m\n\u001b[0;32m      6\u001b[0m app_tr_path \u001b[39m=\u001b[39m source_dir\u001b[39m+\u001b[39m\u001b[39m\"\u001b[39m\u001b[39m\\\\\u001b[39;00m\u001b[39mapplication_train.csv\u001b[39m\u001b[39m\"\u001b[39m\n",
      "\u001b[1;31mModuleNotFoundError\u001b[0m: No module named 'pandas'"
     ]
    }
   ],
   "source": [
    "# 引入本部分所需要的包，并定义需要的值和函数\n",
    "\n",
    "import pandas as pd\n",
    "\n",
    "source_dir=\"..\\\\data\\\\home-credit-default-risk\"\n",
    "app_tr_path = source_dir+\"\\\\application_train.csv\"\n",
    "app_te_path = source_dir+\"\\\\application_test.csv\"\n",
    "bur_path = source_dir+\"\\\\bureau.csv\"\n",
    "bur_bal_path = source_dir+\"\\\\bureau_balance.csv\"\n",
    "pos_path = source_dir+\"\\\\POS_CASH_balance.csv\"\n",
    "cre_path = source_dir+\"\\\\credit_card_balance.csv\"\n",
    "pre_path = source_dir+\"\\\\previous_application.csv\"\n",
    "ins_path = source_dir+\"\\\\installments_payments.csv\"\n",
    "\n",
    "hom_path = \"..\\\\data\\\\home-credit-default-risk\\\\HomeCredit_columns_description.csv\"  # 列描述表\n",
    "hom = pd.read_csv(hom_path)"
   ]
  },
  {
   "attachments": {},
   "cell_type": "markdown",
   "metadata": {},
   "source": [
    "### 1. **application_{train|test}.csv**\n",
    "\n",
    "比如：\n",
    "> 查看一下train表的target分布"
   ]
  }
 ],
 "metadata": {
  "kernelspec": {
   "display_name": "hcdrvenv",
   "language": "python",
   "name": "python3"
  },
  "language_info": {
   "codemirror_mode": {
    "name": "ipython",
    "version": 3
   },
   "file_extension": ".py",
   "mimetype": "text/x-python",
   "name": "python",
   "nbconvert_exporter": "python",
   "pygments_lexer": "ipython3",
   "version": "3.10.6"
  },
  "orig_nbformat": 4
 },
 "nbformat": 4,
 "nbformat_minor": 2
}
